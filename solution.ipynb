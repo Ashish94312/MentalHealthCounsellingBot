{
 "cells": [
  {
   "cell_type": "markdown",
   "metadata": {},
   "source": [
    "# Mental health counseling ChatGPT Clone from Scratch"
   ]
  },
  {
   "cell_type": "markdown",
   "metadata": {},
   "source": [
    "## Task 1: Import the Libraries"
   ]
  },
  {
   "cell_type": "code",
   "execution_count": 1,
   "metadata": {},
   "outputs": [],
   "source": [
    "# Import the libraries here\n",
    "import os\n",
    "from datasets import load_dataset\n",
    "import json\n",
    "from enum import Enum \n",
    "import random\n",
    "from openai import OpenAI"
   ]
  },
  {
   "cell_type": "markdown",
   "metadata": {},
   "source": [
    "## Task 2: Create Classes for the Dataset"
   ]
  },
  {
   "cell_type": "code",
   "execution_count": 2,
   "metadata": {},
   "outputs": [],
   "source": [
    "#  Define the RoleType Enum here\n",
    "class RoleType(Enum):\n",
    "    USER = 'user',\n",
    "    SYSTEM = 'system'\n",
    "    ASSISTANT = 'assistant'\n"
   ]
  },
  {
   "cell_type": "code",
   "execution_count": 3,
   "metadata": {},
   "outputs": [],
   "source": [
    "# Define the Role class here\n",
    "class Role:\n",
    "    def __init__(self,role_type: RoleType, content):\n",
    "        self.role = role_type.value\n",
    "        self.content= content\n",
    "        self.value = {'role':self.role, 'content':self.content}\n",
    "\n"
   ]
  },
  {
   "cell_type": "code",
   "execution_count": 4,
   "metadata": {},
   "outputs": [],
   "source": [
    "#  Define the messsage class here\n",
    "class Message(object):\n",
    "    def __init__(self, user_content,system_content, assistant_content):\n",
    "        self.user_role =Role(role_type=RoleType.USER,content=user_content)\n",
    "        self.system_role =Role(role_type=RoleType.SYSTEM,content=system_content)\n",
    "        self.assistant_role =Role(role_type=RoleType.ASSISTANT,content=assistant_content)\n",
    "        self.message = {'message':[self.system_role.value, self.user_role.value,self.assistant_role.value]}\n"
   ]
  },
  {
   "cell_type": "markdown",
   "metadata": {},
   "source": [
    "## Task 3: Load, Explore, and Store the Data"
   ]
  },
  {
   "cell_type": "code",
   "execution_count": 5,
   "metadata": {},
   "outputs": [
    {
     "data": {
      "application/vnd.jupyter.widget-view+json": {
       "model_id": "6057ea3d1bc743eb8f3e44e238235347",
       "version_major": 2,
       "version_minor": 0
      },
      "text/plain": [
       "README.md: 0.00B [00:00, ?B/s]"
      ]
     },
     "metadata": {},
     "output_type": "display_data"
    },
    {
     "data": {
      "application/vnd.jupyter.widget-view+json": {
       "model_id": "1f4c6fb78bce4004a9065ec01e0b22a1",
       "version_major": 2,
       "version_minor": 0
      },
      "text/plain": [
       "combined_dataset.json: 0.00B [00:00, ?B/s]"
      ]
     },
     "metadata": {},
     "output_type": "display_data"
    },
    {
     "data": {
      "application/vnd.jupyter.widget-view+json": {
       "model_id": "5cfc330bf75049a2b8cf27bbe32f8606",
       "version_major": 2,
       "version_minor": 0
      },
      "text/plain": [
       "Generating train split: 0 examples [00:00, ? examples/s]"
      ]
     },
     "metadata": {},
     "output_type": "display_data"
    }
   ],
   "source": [
    "# Load the dataset \n",
    "dataset = load_dataset(\n",
    "    \"Amod/mental_health_counseling_conversations\",\n",
    "    data_files = \"combined_dataset.json\",\n",
    "    split = \"train\"\n",
    ")"
   ]
  },
  {
   "cell_type": "code",
   "execution_count": 6,
   "metadata": {},
   "outputs": [
    {
     "name": "stdout",
     "output_type": "stream",
     "text": [
      "{'message': [{'role': 'system', 'content': 'You serve as a supportive and honest psychology and psychotherapy assistant. Your main duty is to offer compassionate, understanding, and non-judgmental responses to users seeking emotional and psychological assistance. Respond with empathy and exhibit active listening skills. Your replies should convey that you comprehend the user’s emotions and worries. In cases where a user mentions thoughts of self-harm, suicide, or harm to others, prioritize their safety. Encourage them to seek immediate professional help and provide emergency contact details as needed. It’s important to note that you are not a licensed medical professional. Refrain from diagnosing or prescribing treatments. Instead, guide users to consult with a licensed therapist or medical expert for tailored advice. Never store or disclose any personal information shared by users. Uphold their privacy at all times. Avoid taking sides or expressing personal viewpoints. Your responsibility is to create a secure space for users to express themselves and reflect. Always aim to foster a supportive and understanding environment for users to share their emotions and concerns. Above all, prioritize their well-being and safety.'}, {'role': ('user',), 'content': 'I am really worried about one of my friends because I think he has major depression. He disagrees with me on that. He is shut off when it comes to talking to people and telling them how he really feels. He told me he feels empty inside and the only emotions he feels are anger and sadness. I suggested to him to get help and talk to his mom about it but he refuses.'}, {'role': 'assistant', 'content': \"First of all, I can tell that you really care about your friend and I think it's great that you are reaching out with your concern. It's hard to determine whether your friend would meet the criteria for an official diagnosis of depression without working with him, however, whether he does or not, therapy may be beneficial for him in working through these difficult feelings and relational challenges. Unfortunately, you can't make your friend get help. He will ultimately need to make that decision for himself, however, you can talk to him about your concerns and your hopes that he will reach out for help.\"}]}\n"
     ]
    }
   ],
   "source": [
    "# Create a sample Message object\n",
    "context = dataset[152][\"Context\"]\n",
    "response = dataset[152][\"Response\"]\n",
    "system_content = \"You serve as a supportive and honest psychology and psychotherapy assistant. Your main duty is to offer compassionate, understanding, and non-judgmental responses to users seeking emotional and psychological assistance. Respond with empathy and exhibit active listening skills. Your replies should convey that you comprehend the user’s emotions and worries. In cases where a user mentions thoughts of self-harm, suicide, or harm to others, prioritize their safety. Encourage them to seek immediate professional help and provide emergency contact details as needed. It’s important to note that you are not a licensed medical professional. Refrain from diagnosing or prescribing treatments. Instead, guide users to consult with a licensed therapist or medical expert for tailored advice. Never store or disclose any personal information shared by users. Uphold their privacy at all times. Avoid taking sides or expressing personal viewpoints. Your responsibility is to create a secure space for users to express themselves and reflect. Always aim to foster a supportive and understanding environment for users to share their emotions and concerns. Above all, prioritize their well-being and safety.\"\n",
    "\n",
    "message_obj = Message(user_content=context,system_content=system_content,assistant_content=response)\n",
    "\n",
    "print(message_obj.message)"
   ]
  },
  {
   "cell_type": "code",
   "execution_count": 7,
   "metadata": {},
   "outputs": [
    {
     "name": "stdout",
     "output_type": "stream",
     "text": [
      "<__main__.Message object at 0x7064d2967490>\n"
     ]
    }
   ],
   "source": [
    "#  Create the train_dataset variable\n",
    "sampled_dataset = random.choices(dataset,k=100)\n",
    "train_dataset=[]\n",
    "for row in sampled_dataset:\n",
    "    message_obj = Message(user_content=row['Context'],system_content=system_content,assistant_content=row['Response'])\n",
    "    train_dataset.append(message_obj)\n",
    "\n",
    "print(train_dataset[1])"
   ]
  },
  {
   "cell_type": "code",
   "execution_count": 8,
   "metadata": {},
   "outputs": [],
   "source": [
    "# Save data in JSONl format \n",
    "\n",
    "def save_to_jsonl(data, file_path):\n",
    "    with open(file_path, 'w') as file:\n",
    "        for row in data:\n",
    "            # Extract the dict representation\n",
    "            if hasattr(row, \"message\"):\n",
    "                row = row.message\n",
    "            line = json.dumps(row)\n",
    "            file.write(line + '\\n')\n",
    "\n",
    "training_data_path = '/usercode/data/train.jsonl'\n",
    "save_to_jsonl(train_dataset[:-5], training_data_path)\n",
    "\n",
    "validation_data_path = '/usercode/data/validation.jsonl'\n",
    "save_to_jsonl(train_dataset[-5:], validation_data_path)"
   ]
  },
  {
   "cell_type": "markdown",
   "metadata": {},
   "source": [
    "## Task 4: Fine-Tune the Model"
   ]
  },
  {
   "cell_type": "code",
   "execution_count": 10,
   "metadata": {},
   "outputs": [],
   "source": [
    "# Load the training and validation files\n",
    "training_data = open(training_data_path,\"rb\")\n",
    "validation_data = open(validation_data_path,\"rb\")\n"
   ]
  },
  {
   "cell_type": "code",
   "execution_count": 11,
   "metadata": {},
   "outputs": [],
   "source": [
    "#  Add OpenAI api_key\n",
    "import os\n",
    "api_key = os.getenv(\"OPENAI_API_KEY\")  \n",
    "client = OpenAI(api_key=api_key)"
   ]
  },
  {
   "cell_type": "code",
   "execution_count": 13,
   "metadata": {},
   "outputs": [
    {
     "name": "stdout",
     "output_type": "stream",
     "text": [
      "Training file id: file-J6W8wnDZg1bpefCco7a2U8\n",
      "Validation file id: file-KEGctcw4HVhmTzRDdUgL2i\n"
     ]
    }
   ],
   "source": [
    "# Upload the training and validation files\n",
    "training_response = client.files.create(file=training_data, purpose=\"fine-tune\")\n",
    "training_file_id = training_response.id\n",
    "\n",
    "validation_response = client.files.create(file=validation_data, purpose=\"fine-tune\")\n",
    "validation_file_id = validation_response.id\n",
    "\n",
    "print(\"Training file id:\", training_file_id)\n",
    "print(\"Validation file id:\", validation_file_id)"
   ]
  },
  {
   "cell_type": "code",
   "execution_count": 14,
   "metadata": {},
   "outputs": [
    {
     "name": "stdout",
     "output_type": "stream",
     "text": [
      "FineTuningJob(id='ftjob-m4prvOzqAMLHGyInCQ2G6eBX', created_at=1757108301, error=Error(code=None, message=None, param=None), fine_tuned_model=None, finished_at=None, hyperparameters=Hyperparameters(n_epochs='auto', batch_size='auto', learning_rate_multiplier='auto'), model='gpt-3.5-turbo-0125', object='fine_tuning.job', organization_id='org-CYfjXQZ9mV4tQpn1I451OOD8', result_files=[], seed=2099961985, status='validating_files', trained_tokens=None, training_file='file-J6W8wnDZg1bpefCco7a2U8', validation_file='file-KEGctcw4HVhmTzRDdUgL2i', estimated_finish=None, integrations=[], user_provided_suffix='my-test-model', metadata=None, usage_metrics=None, shared_with_openai=False, eval_id=None, method={'type': 'supervised', 'supervised': {'hyperparameters': {'batch_size': 'auto', 'learning_rate_multiplier': 'auto', 'n_epochs': 'auto'}}})\n"
     ]
    }
   ],
   "source": [
    "# Create a fine-tuning job\n",
    "\n",
    "response = client.fine_tuning.jobs.create(\n",
    "    training_file = training_file_id,\n",
    "    model = \"gpt-3.5-turbo\",\n",
    "    suffix = \"my-test-model\",\n",
    "    validation_file = validation_file_id\n",
    ")\n",
    "\n",
    "job_id = response.id \n",
    "print(response)"
   ]
  },
  {
   "cell_type": "code",
   "execution_count": 16,
   "metadata": {},
   "outputs": [
    {
     "name": "stdout",
     "output_type": "stream",
     "text": [
      "FineTuningJob(id='ftjob-m4prvOzqAMLHGyInCQ2G6eBX', created_at=1757108301, error=Error(code='invalid_file_format', message='The job failed due to a file format error in the training file. Invalid file format. Example 1 is missing key \"messages\".', param='training_file'), fine_tuned_model=None, finished_at=None, hyperparameters=Hyperparameters(n_epochs='auto', batch_size='auto', learning_rate_multiplier='auto'), model='gpt-3.5-turbo-0125', object='fine_tuning.job', organization_id='org-CYfjXQZ9mV4tQpn1I451OOD8', result_files=[], seed=2099961985, status='failed', trained_tokens=None, training_file='file-J6W8wnDZg1bpefCco7a2U8', validation_file='file-KEGctcw4HVhmTzRDdUgL2i', estimated_finish=None, integrations=[], user_provided_suffix='my-test-model', metadata=None, usage_metrics=None, shared_with_openai=False, eval_id=None, method={'type': 'supervised', 'supervised': {'hyperparameters': {'n_epochs': 'auto', 'batch_size': 'auto', 'learning_rate_multiplier': 'auto'}}})\n"
     ]
    }
   ],
   "source": [
    "# Retrieve the job status\n",
    "job_status= client.fine_tuning.jobs.retrieve(job_id)\n",
    "print(job_status)"
   ]
  },
  {
   "cell_type": "markdown",
   "metadata": {},
   "source": [
    "## Task 5: Test the Fine-Tuned Model"
   ]
  },
  {
   "cell_type": "code",
   "execution_count": 17,
   "metadata": {},
   "outputs": [],
   "source": [
    "# Create and store message dictionaries\n",
    "system_message = \"\"\"You serve as a supportive and honest psychology and psychotherapy assistant. Your main duty is to offer compassionate, understanding, and non-judgmental responses to users seeking emotional and psychological assistance. Respond with empathy and exhibit active listening skills. Your replies should convey that you comprehend the user's emotions and worries. In cases where a user mentions thoughts of self-harm, suicide, or harm to others, prioritize their safety. Encourage them to seek immediate professional help and provide emergency contact details as needed. It's important to note that you are not a licensed medical professional. Refrain from diagnosing or prescribing treatments. Instead, guide users to consult with a licensed therapist or medical expert for tailored advice. Never store or disclose any personal information shared by users. Uphold their privacy at all times. Avoid taking sides or expressing personal viewpoints. Your responsibility is to create a secure space for users to express themselves and reflect. Always aim to foster a supportive and understanding environment for users to share their emotions and concerns. Above all, prioritize their well-being and safety.\"\"\"\n",
    "\n",
    "messages = []\n",
    "messages.append({\"role\": \"system\", \"content\": system_message})\n",
    "user_message = \"Every winter I find myself getting sad because of the weather. How can I fight this?\"\n",
    "messages.append({\"role\": \"user\", \"content\": user_message})"
   ]
  },
  {
   "cell_type": "code",
   "execution_count": 18,
   "metadata": {},
   "outputs": [
    {
     "name": "stdout",
     "output_type": "stream",
     "text": [
      "ChatCompletionMessage(content=\"I'm sorry to hear that you struggle with feeling sad during winter. It's not uncommon to experience seasonal changes affecting our mood. One way to combat this is by trying to bring more light into your daily routine. Getting outdoors during daylight hours, even for a short walk, can help boost your mood. Additionally, light therapy using a lightbox can mimic natural sunlight and be helpful for some people.\\n\\nIt's also important to stay connected with others, even if it's just through phone calls or virtual meetings. Social support can make a big difference in how we feel. Engaging in activities you enjoy, staying physically active, and practicing self-care like getting enough sleep and eating well can also help improve your mood.\\n\\nIf you find that these strategies aren't bringing relief or if your feelings of sadness become overwhelming, it might be beneficial to speak with a therapist or counselor who can provide support and guidance tailored to your specific needs. Remember, it's okay to seek help when you need it. Your feelings are valid, and you deserve support and care.\", refusal=None, role='assistant', function_call=None, tool_calls=None, annotations=[])\n"
     ]
    }
   ],
   "source": [
    "# Test the fine-tuned chat completion model\n",
    "completion = client.chat.completions.create(\n",
    "    model = response.model,\n",
    "    messages = messages\n",
    ")\n",
    "\n",
    "print(completion.choices[0].message)"
   ]
  },
  {
   "cell_type": "code",
   "execution_count": 19,
   "metadata": {},
   "outputs": [
    {
     "name": "stdout",
     "output_type": "stream",
     "text": [
      "ChatCompletionMessage(content=\"It sounds like you may be experiencing seasonal affective disorder (SAD), which can affect many people during the winter months. It's great that you're looking for ways to fight this and take care of yourself. Here are some tips that might help:\\n\\n1. **Light Therapy:** Consider using a light therapy box, which mimics natural sunlight, to help improve your mood.\\n\\n2. **Spending Time Outdoors:** Try to get outside during daylight hours, even if it's cloudy. Fresh air and natural light can have a positive impact on your mood.\\n\\n3. **Regular Exercise:** Physical activity can help boost your mood and energy levels. Even a short walk or some gentle stretching can make a difference.\\n\\n4. **Healthy Diet:** Eating well-balanced meals and staying hydrated can positively influence your mood and overall well-being.\\n\\n5. **Social Support:** Make an effort to stay connected with friends and loved ones. Social interaction can help combat feelings of isolation and loneliness.\\n\\n6. **Mindfulness and Relaxation Techniques:** Practices like meditation, deep breathing, or yoga can help reduce stress and improve your mood.\\n\\nIf you find that these strategies aren't enough to alleviate your symptoms, please consider reaching out to a mental health professional for additional support and guidance. Your well-being is important, and it's okay to seek help when you need it. You're not alone in this. Take care of yourself.\", refusal=None, role='assistant', function_call=None, tool_calls=None, annotations=[])\n"
     ]
    }
   ],
   "source": [
    "# Get and compare the output of the gpt-3.5-turbo chat completion model\n",
    "\n",
    "completion = client.chat.completions.create(\n",
    "    model = \"gpt-3.5-turbo\",\n",
    "    messages = messages\n",
    ")\n",
    "\n",
    "print(completion.choices[0].message)\n"
   ]
  }
 ],
 "metadata": {
  "kernelspec": {
   "display_name": "Python 3",
   "language": "python",
   "name": "python3"
  },
  "language_info": {
   "codemirror_mode": {
    "name": "ipython",
    "version": 3
   },
   "file_extension": ".py",
   "mimetype": "text/x-python",
   "name": "python",
   "nbconvert_exporter": "python",
   "pygments_lexer": "ipython3",
   "version": "3.8.10 (default, Sep 11 2024, 16:02:53) \n[GCC 9.4.0]"
  },
  "orig_nbformat": 4,
  "vscode": {
   "interpreter": {
    "hash": "31f2aee4e71d21fbe5cf8b01ff0e069b9275f58929596ceb00d14d90e3e16cd6"
   }
  }
 },
 "nbformat": 4,
 "nbformat_minor": 2
}
